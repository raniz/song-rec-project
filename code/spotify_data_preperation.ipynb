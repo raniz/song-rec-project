{
 "cells": [
  {
   "cell_type": "code",
   "execution_count": 10,
   "id": "0114e716",
   "metadata": {},
   "outputs": [],
   "source": [
    "import json\n",
    "import os\n",
    "import pickle"
   ]
  },
  {
   "cell_type": "code",
   "execution_count": 13,
   "id": "17b1daef",
   "metadata": {},
   "outputs": [],
   "source": [
    "# path to dataset\n",
    "data_path = '/recsys/data/spotify/spotify_million_playlist_dataset/data/'\n",
    "# path for output data\n",
    "data_out_path = '/recsys/data/spotify/s2v_data/'"
   ]
  },
  {
   "cell_type": "markdown",
   "id": "089973a0",
   "metadata": {},
   "source": [
    "## Data preperation\n",
    "We parse the raw json files and create tokenized playlists.\n",
    "We don't save any Meta Data since this project does not use any Meta Data\n",
    "\n",
    "The output is:\n",
    "- train: 800K playlists\n",
    "- test: 200K playlists\n",
    "- track_data_map: mapping from song name to token\n",
    "- reverse_track_lookup: mapping from token to song name"
   ]
  },
  {
   "cell_type": "code",
   "execution_count": 3,
   "id": "638677e3",
   "metadata": {},
   "outputs": [],
   "source": [
    "track_data_map = {}\n",
    "reverse_track_lookup = {}"
   ]
  },
  {
   "cell_type": "code",
   "execution_count": 4,
   "id": "1f67c797",
   "metadata": {},
   "outputs": [],
   "source": [
    "playlists = []"
   ]
  },
  {
   "cell_type": "code",
   "execution_count": 5,
   "id": "4b4dbfc2",
   "metadata": {},
   "outputs": [],
   "source": [
    "s_id = 0\n",
    "filenames = os.listdir(data_path)\n",
    "for filename in sorted(filenames):\n",
    "    if filename.startswith(\"mpd.slice.\") and filename.endswith(\".json\"):\n",
    "        fullpath = os.sep.join((data_path, filename))\n",
    "        \n",
    "        with open(fullpath) as f:\n",
    "\n",
    "            js = f.read()\n",
    "\n",
    "        mpd_slice = json.loads(js)\n",
    "        \n",
    "        for playlist in mpd_slice[\"playlists\"]:\n",
    "            pl = []\n",
    "            for track in playlist[\"tracks\"]:\n",
    "                uri = track[\"track_uri\"]\n",
    "                if uri not in track_data_map:\n",
    "                    track_name = track['track_name']\n",
    "                    artist_name = track['artist_name']\n",
    "                    artist_uri = track['artist_uri']\n",
    "                    album_uri = track['album_uri']\n",
    "                    album_name = track['album_name']\n",
    "                    duration = float(track['duration_ms']) / 1000\n",
    "                    \n",
    "                    track_data = {'id': s_id, \n",
    "                                  'name': track_name,\n",
    "                                  'duration': duration,\n",
    "                                  'artist_name': artist_name,\n",
    "                                  'artist_uri': artist_uri,\n",
    "                                  'album_name': album_name,\n",
    "                                  'album_uri': album_uri}\n",
    "                    \n",
    "                    track_data_map[uri] = track_data\n",
    "                    reverse_track_lookup[s_id] = uri\n",
    "                    s_id += 1\n",
    "                    \n",
    "                pl.append(track_data_map[uri]['id'])\n",
    "            \n",
    "            playlists.append(' '.join([str(s) for s in pl]))"
   ]
  },
  {
   "cell_type": "code",
   "execution_count": 7,
   "id": "eb8969d9",
   "metadata": {},
   "outputs": [],
   "source": [
    "train, test = playlists[:800000], playlists[800000:]"
   ]
  },
  {
   "cell_type": "code",
   "execution_count": 11,
   "id": "67942929",
   "metadata": {},
   "outputs": [],
   "source": [
    "data = [train, test, track_data_map, reverse_track_lookup]"
   ]
  },
  {
   "cell_type": "code",
   "execution_count": 15,
   "id": "5f0ce782",
   "metadata": {},
   "outputs": [],
   "source": [
    "with open(data_out_path + 'sentences_and_maps.pickle', 'wb') as handle:\n",
    "    pickle.dump(data, handle, protocol=pickle.HIGHEST_PROTOCOL)"
   ]
  }
 ],
 "metadata": {
  "kernelspec": {
   "display_name": "Python 3 (ipykernel)",
   "language": "python",
   "name": "python3"
  },
  "language_info": {
   "codemirror_mode": {
    "name": "ipython",
    "version": 3
   },
   "file_extension": ".py",
   "mimetype": "text/x-python",
   "name": "python",
   "nbconvert_exporter": "python",
   "pygments_lexer": "ipython3",
   "version": "3.9.10"
  }
 },
 "nbformat": 4,
 "nbformat_minor": 5
}
