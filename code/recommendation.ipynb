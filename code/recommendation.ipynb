{
 "cells": [
  {
   "cell_type": "code",
   "execution_count": 1,
   "id": "4d671dc2",
   "metadata": {},
   "outputs": [
    {
     "name": "stderr",
     "output_type": "stream",
     "text": [
      "2022-02-24 04:44:17.620320: W tensorflow/stream_executor/platform/default/dso_loader.cc:64] Could not load dynamic library 'libcudart.so.11.0'; dlerror: libcudart.so.11.0: cannot open shared object file: No such file or directory\n",
      "2022-02-24 04:44:17.620338: I tensorflow/stream_executor/cuda/cudart_stub.cc:29] Ignore above cudart dlerror if you do not have a GPU set up on your machine.\n"
     ]
    }
   ],
   "source": [
    "import time\n",
    "import pickle\n",
    "\n",
    "import numpy as np\n",
    "import pandas as pd\n",
    "\n",
    "from gensim.models import KeyedVectors\n",
    "\n",
    "from sklearn.cluster import KMeans\n",
    "\n",
    "from matplotlib import pyplot as plt\n",
    "\n",
    "from multiprocessing import Pool\n",
    "\n",
    "from evaluation_metrics import r_precision, recommended_songs_clicks\n",
    "\n",
    "from tensorflow import keras"
   ]
  },
  {
   "cell_type": "code",
   "execution_count": 2,
   "id": "fcdb1f33",
   "metadata": {},
   "outputs": [],
   "source": [
    "NUM_CLUSTERS = 128"
   ]
  },
  {
   "cell_type": "code",
   "execution_count": 3,
   "id": "e8b0d1f2",
   "metadata": {},
   "outputs": [],
   "source": [
    "data_path = '/recsys/data/spotify/s2v_data/'\n",
    "\n",
    "pickle_file = 'sentences_and_maps.pickle'\n",
    "\n",
    "vectors_file = 'song_vectors.kv'\n",
    "\n",
    "kmeans_file = 'kmeans.pickle'\n",
    "\n",
    "song_counts_file = 'song_count.csv'\n",
    "\n",
    "transitions_file = 'transitions.pickle'"
   ]
  },
  {
   "cell_type": "markdown",
   "id": "0f30959f",
   "metadata": {},
   "source": [
    "# Models preperation"
   ]
  },
  {
   "cell_type": "markdown",
   "id": "0c228ba6",
   "metadata": {},
   "source": [
    "### Loading data and trained song-vectors"
   ]
  },
  {
   "cell_type": "code",
   "execution_count": 4,
   "id": "97afedc9",
   "metadata": {},
   "outputs": [],
   "source": [
    "with open(data_path + pickle_file, 'rb') as handle:\n",
    "    train, test, track_data_map, reverse_track_lookup = pickle.load(handle)\n",
    "    \n",
    "train = [val.split() for val in train]\n",
    "test = [val.split() for val in test]"
   ]
  },
  {
   "cell_type": "code",
   "execution_count": 5,
   "id": "9c57292a",
   "metadata": {},
   "outputs": [],
   "source": [
    "wv = KeyedVectors.load(data_path + vectors_file)"
   ]
  },
  {
   "cell_type": "markdown",
   "id": "2d1d9b15",
   "metadata": {},
   "source": [
    "### Popularity calculation"
   ]
  },
  {
   "cell_type": "code",
   "execution_count": 6,
   "id": "841d7bbd",
   "metadata": {},
   "outputs": [
    {
     "name": "stdout",
     "output_type": "stream",
     "text": [
      "Loading failed: file must have 'read' and 'readline' attributes\n",
      "Creating file\n"
     ]
    }
   ],
   "source": [
    "try:\n",
    "    with open(data_path + kmeans_file, 'rb') as handle:\n",
    "        POPULAR = pickle.load(data_path + song_counts_file)\n",
    "except Exception as e:\n",
    "    print('Loading failed: {}'.format(e))\n",
    "    print('Creating file')\n",
    "    \n",
    "    songs_count = {}\n",
    "    for pl in train:\n",
    "        for s in pl:\n",
    "            if s in songs_count:\n",
    "                songs_count[s] += 1\n",
    "            else:\n",
    "                songs_count[s] = 1\n",
    "    \n",
    "    s_count = pd.DataFrame.from_dict(songs_count, orient='index')\n",
    "    s_count.columns = ['count']\n",
    "    s_count = s_count.sort_values('count', ascending=False)\n",
    "\n",
    "    POPULAR = list(s_count.index)[:100]\n",
    "    \n",
    "    with open(data_path + song_counts_file, 'wb') as handle:\n",
    "        pickle.dump(POPULAR, handle)"
   ]
  },
  {
   "cell_type": "markdown",
   "id": "624aec40",
   "metadata": {},
   "source": [
    "### K-Means calculation"
   ]
  },
  {
   "cell_type": "code",
   "execution_count": 7,
   "id": "edf4bcf8",
   "metadata": {},
   "outputs": [],
   "source": [
    "vectors = []\n",
    "for s in wv.index_to_key:\n",
    "    vectors.append(wv.get_vector(s))\n",
    "    \n",
    "X = np.array(vectors)"
   ]
  },
  {
   "cell_type": "code",
   "execution_count": 8,
   "id": "2242ce23",
   "metadata": {},
   "outputs": [],
   "source": [
    "try:\n",
    "    with open(data_path + kmeans_file, 'rb') as handle:\n",
    "        kmeans = pickle.load(handle)\n",
    "except Exception as e:\n",
    "    print('Loading failed: {}'.format(e))\n",
    "    print('Creating file')\n",
    "    kmeans = KMeans(n_clusters=NUM_CLUSTERS, random_state=42).fit(X)\n",
    "    \n",
    "    with open(data_path + kmeans_file, 'wb') as handle:\n",
    "        pickle.dump(kmeans, handle)"
   ]
  },
  {
   "cell_type": "code",
   "execution_count": 9,
   "id": "435ea699",
   "metadata": {},
   "outputs": [],
   "source": [
    "cluster_map = {}\n",
    "\n",
    "for i, s in enumerate(wv.key_to_index):\n",
    "    cluster_map[s] = kmeans.labels_[i]"
   ]
  },
  {
   "cell_type": "code",
   "execution_count": 10,
   "id": "93650342",
   "metadata": {},
   "outputs": [],
   "source": [
    "def pl_to_transition(pl):\n",
    "    \n",
    "    global cluster_map\n",
    "    \n",
    "    last = None\n",
    "    plr = [s for s in pl if s in cluster_map]\n",
    "    \n",
    "    if len(plr) < 2:\n",
    "        return {}\n",
    "        \n",
    "    ret = {}\n",
    "    for s in plr:\n",
    "        if last:\n",
    "            last_cluster = cluster_map[last]\n",
    "            current_cluster = cluster_map[s]\n",
    "            \n",
    "            transition = (last_cluster, current_cluster)\n",
    "            if transition in ret:\n",
    "                ret[transition] += 1\n",
    "            else:\n",
    "                ret[transition] = 1\n",
    "            \n",
    "        last = s\n",
    "        \n",
    "    return ret"
   ]
  },
  {
   "cell_type": "code",
   "execution_count": 11,
   "id": "0c608275",
   "metadata": {},
   "outputs": [
    {
     "name": "stdout",
     "output_type": "stream",
     "text": [
      "CPU times: user 1.01 ms, sys: 100 µs, total: 1.11 ms\n",
      "Wall time: 863 µs\n"
     ]
    }
   ],
   "source": [
    "%%time\n",
    "\n",
    "try:\n",
    "    with open(data_path + transitions_file, 'rb') as handle:\n",
    "        transition_map = pickle.load(handle)\n",
    "except Exception as e:\n",
    "    print('Loading failed: {}'.format(e))\n",
    "    print('Creating file')\n",
    "    \n",
    "    # Map every playlist to a transition_map\n",
    "    with Pool(4) as p:\n",
    "        transitions = p.map(pl_to_transition, train)\n",
    "        \n",
    "    # Reduce all transition maps to one transition map\n",
    "    transition_map = {}\n",
    "\n",
    "    for small_transition_map in transitions:\n",
    "        for key, value in small_transition_map.items():\n",
    "            if key[0] in transition_map:\n",
    "                transition_map[key[0]][key[1]] += value\n",
    "            else:\n",
    "                transition_map[key[0]] = np.zeros(NUM_CLUSTERS)\n",
    "                transition_map[key[0]][key[1]] += value\n",
    "    \n",
    "    with open(data_path + transitions_file, 'wb') as handle:\n",
    "        pickle.dump(transition_map, handle)"
   ]
  },
  {
   "cell_type": "markdown",
   "id": "d52df00b",
   "metadata": {},
   "source": [
    "# Recommendation methods"
   ]
  },
  {
   "cell_type": "markdown",
   "id": "7df4c489",
   "metadata": {},
   "source": [
    "### Similarity directly from song-vectors"
   ]
  },
  {
   "cell_type": "code",
   "execution_count": 12,
   "id": "240b966d",
   "metadata": {},
   "outputs": [],
   "source": [
    "def predict_using_similarity(s_sample, k, wv):\n",
    "    song_in_dict = False\n",
    "    for s in s_sample:\n",
    "        if s in wv.key_to_index:\n",
    "            song_in_dict = True\n",
    "            break\n",
    "    \n",
    "    if song_in_dict:\n",
    "        return wv.most_similar_cosmul(s, topn=k)\n",
    "    else:\n",
    "        return predict_using_popularity(k, POPULAR)"
   ]
  },
  {
   "cell_type": "markdown",
   "id": "a037f053",
   "metadata": {},
   "source": [
    "### Similarity using KMeans"
   ]
  },
  {
   "cell_type": "code",
   "execution_count": 13,
   "id": "e3aff280",
   "metadata": {},
   "outputs": [],
   "source": [
    "def predict_using_kmeans(s_sample, k, k_clusters, wv, cluster_map, transition_map):\n",
    "    song_in_dict = False\n",
    "    for s in s_sample:\n",
    "        if s in wv.key_to_index:\n",
    "            song_in_dict = True\n",
    "            break\n",
    "    \n",
    "    if song_in_dict:\n",
    "        s_cluster = cluster_map[s]\n",
    "\n",
    "        best_clusters = np.argpartition(transition_map[s_cluster], -k_clusters)[-k_clusters:]\n",
    "        best_clusters = set(best_clusters)\n",
    "\n",
    "        best_candidates = wv.most_similar_cosmul(s, topn=k * 100)\n",
    "        best_candidates = [t for t in best_candidates if cluster_map[t[0]] in best_clusters]\n",
    "\n",
    "        return best_candidates[:k]\n",
    "    \n",
    "    else:\n",
    "        return predict_using_popularity(k, POPULAR)"
   ]
  },
  {
   "cell_type": "markdown",
   "id": "506a97af",
   "metadata": {},
   "source": [
    "### Similarity using Popularity"
   ]
  },
  {
   "cell_type": "code",
   "execution_count": 14,
   "id": "e7b5eaac",
   "metadata": {},
   "outputs": [],
   "source": [
    "def predict_using_popularity(k, most_popular):\n",
    "    best_candidates = most_popular[:k]\n",
    "    scores = [1 for _ in best_candidates]\n",
    "    \n",
    "    ret = [(cand, score) for cand, score in zip(best_candidates, scores)]\n",
    "    return ret"
   ]
  },
  {
   "cell_type": "markdown",
   "id": "08498a2e",
   "metadata": {},
   "source": [
    "### Similarity using EmbtoEmb-Encoder-Decoder"
   ]
  },
  {
   "cell_type": "code",
   "execution_count": 15,
   "id": "d19d37f5",
   "metadata": {},
   "outputs": [],
   "source": [
    "def predict_using_similarity_to_decoding(s_sample, k, wv, autoencoder):\n",
    "    songs_in_dict = []\n",
    "    all_results = []\n",
    "    for s in s_sample:\n",
    "        if s in wv.key_to_index:\n",
    "            songs_in_dict.append(s)\n",
    "    \n",
    "    if songs_in_dict:\n",
    "        for s in songs_in_dict:\n",
    "            vec = wv.get_vector(s).reshape(1, 64, 1)\n",
    "            encoded_vec = autoencoder.encoder(vec).numpy()\n",
    "            decoded_vec = autoencoder.decoder(encoded_vec).numpy()\n",
    "            temp_results = wv.similar_by_vector(decoded_vec[0], topn=int(k / len(songs_in_dict)))\n",
    "            all_results.extend(temp_results)\n",
    "        \n",
    "        return all_results[:100]\n",
    "    else:\n",
    "        return predict_using_popularity(k, POPULAR)"
   ]
  },
  {
   "cell_type": "markdown",
   "id": "957bcabe",
   "metadata": {},
   "source": [
    "# evaluation"
   ]
  },
  {
   "cell_type": "code",
   "execution_count": 16,
   "id": "6a606134",
   "metadata": {},
   "outputs": [],
   "source": [
    "results_df = pd.DataFrame(columns=['Method', 'Time', 'R-Precision', 'Clicks'])"
   ]
  },
  {
   "cell_type": "code",
   "execution_count": 17,
   "id": "7f54f179",
   "metadata": {},
   "outputs": [],
   "source": [
    "start = time.time()\n",
    "prediction = [predict_using_popularity(100, POPULAR) for sample in test[:10000]]\n",
    "\n",
    "results_df = results_df.append({'Method': 'Popularity', \n",
    "                                'Time': (time.time() - start) / 60, \n",
    "                                'R-Precision': r_precision(test[:10000], prediction), \n",
    "                                'Clicks': recommended_songs_clicks(test[:10000], prediction)},\n",
    "                               ignore_index=True)"
   ]
  },
  {
   "cell_type": "code",
   "execution_count": 18,
   "id": "de2fa29e",
   "metadata": {},
   "outputs": [],
   "source": [
    "start = time.time()\n",
    "prediction = [predict_using_similarity(sample[:3], 100, wv) for sample in test[:10000]]\n",
    "\n",
    "results_df = results_df.append({'Method': 'Similarity', \n",
    "                                'Time': (time.time() - start) / 60, \n",
    "                                'R-Precision': r_precision(test[:10000], prediction), \n",
    "                                'Clicks': recommended_songs_clicks(test[:10000], prediction)},\n",
    "                               ignore_index=True)"
   ]
  },
  {
   "cell_type": "code",
   "execution_count": 19,
   "id": "dd139442",
   "metadata": {},
   "outputs": [],
   "source": [
    "start = time.time()\n",
    "prediction = [predict_using_kmeans(sample[:3], 100, 10, wv, cluster_map, transition_map) for sample in test[:10000]]\n",
    "prediction_50 = [pred[:50] for pred in prediction]\n",
    "\n",
    "results_df = results_df.append({'Method': 'Kmeans-Similarity', \n",
    "                                'Time': (time.time() - start) / 60, \n",
    "                                'R-Precision': r_precision(test[:10000], prediction), \n",
    "                                'Clicks': recommended_songs_clicks(test[:10000], prediction)},\n",
    "                               ignore_index=True)"
   ]
  },
  {
   "cell_type": "code",
   "execution_count": 20,
   "id": "9b15d3c2",
   "metadata": {},
   "outputs": [
    {
     "name": "stderr",
     "output_type": "stream",
     "text": [
      "2022-02-24 04:50:57.731537: E tensorflow/stream_executor/cuda/cuda_driver.cc:271] failed call to cuInit: CUDA_ERROR_NO_DEVICE: no CUDA-capable device is detected\n",
      "2022-02-24 04:50:57.731567: I tensorflow/stream_executor/cuda/cuda_diagnostics.cc:156] kernel driver does not appear to be running on this host (kal-syl): /proc/driver/nvidia/version does not exist\n",
      "2022-02-24 04:50:57.731863: I tensorflow/core/platform/cpu_feature_guard.cc:151] This TensorFlow binary is optimized with oneAPI Deep Neural Network Library (oneDNN) to use the following CPU instructions in performance-critical operations:  AVX2 FMA\n",
      "To enable them in other operations, rebuild TensorFlow with the appropriate compiler flags.\n"
     ]
    }
   ],
   "source": [
    "autoencoder = keras.models.load_model(data_path + 'emb_to_emb_encoder.model')\n",
    "\n",
    "start = time.time()\n",
    "prediction = [predict_using_similarity_to_decoding(sample[:3], 100, wv, autoencoder) for sample in test[:10000]]\n",
    "prediction_50 = [pred[:50] for pred in prediction]\n",
    "\n",
    "results_df = results_df.append({'Method': 'Emb-to-Emb Similarity', \n",
    "                                'Time': (time.time() - start) / 60, \n",
    "                                'R-Precision': r_precision(test[:10000], prediction), \n",
    "                                'Clicks': recommended_songs_clicks(test[:10000], prediction)},\n",
    "                               ignore_index=True)"
   ]
  },
  {
   "cell_type": "code",
   "execution_count": 21,
   "id": "6111aa39",
   "metadata": {},
   "outputs": [
    {
     "data": {
      "text/html": [
       "<div>\n",
       "<style scoped>\n",
       "    .dataframe tbody tr th:only-of-type {\n",
       "        vertical-align: middle;\n",
       "    }\n",
       "\n",
       "    .dataframe tbody tr th {\n",
       "        vertical-align: top;\n",
       "    }\n",
       "\n",
       "    .dataframe thead th {\n",
       "        text-align: right;\n",
       "    }\n",
       "</style>\n",
       "<table border=\"1\" class=\"dataframe\">\n",
       "  <thead>\n",
       "    <tr style=\"text-align: right;\">\n",
       "      <th></th>\n",
       "      <th>Method</th>\n",
       "      <th>Time</th>\n",
       "      <th>R-Precision</th>\n",
       "      <th>Clicks</th>\n",
       "    </tr>\n",
       "  </thead>\n",
       "  <tbody>\n",
       "    <tr>\n",
       "      <th>0</th>\n",
       "      <td>Popularity</td>\n",
       "      <td>0.002576</td>\n",
       "      <td>0.040846</td>\n",
       "      <td>6.7052</td>\n",
       "    </tr>\n",
       "    <tr>\n",
       "      <th>1</th>\n",
       "      <td>Similarity</td>\n",
       "      <td>1.347310</td>\n",
       "      <td>0.103546</td>\n",
       "      <td>3.4308</td>\n",
       "    </tr>\n",
       "    <tr>\n",
       "      <th>2</th>\n",
       "      <td>Kmeans-Similarity</td>\n",
       "      <td>4.767864</td>\n",
       "      <td>0.100797</td>\n",
       "      <td>3.4984</td>\n",
       "    </tr>\n",
       "    <tr>\n",
       "      <th>3</th>\n",
       "      <td>Emb-to-Emb Similarity</td>\n",
       "      <td>2.527932</td>\n",
       "      <td>0.116357</td>\n",
       "      <td>3.7474</td>\n",
       "    </tr>\n",
       "  </tbody>\n",
       "</table>\n",
       "</div>"
      ],
      "text/plain": [
       "                  Method      Time  R-Precision  Clicks\n",
       "0             Popularity  0.002576     0.040846  6.7052\n",
       "1             Similarity  1.347310     0.103546  3.4308\n",
       "2      Kmeans-Similarity  4.767864     0.100797  3.4984\n",
       "3  Emb-to-Emb Similarity  2.527932     0.116357  3.7474"
      ]
     },
     "execution_count": 21,
     "metadata": {},
     "output_type": "execute_result"
    }
   ],
   "source": [
    "results_df"
   ]
  },
  {
   "cell_type": "code",
   "execution_count": 22,
   "id": "1a7fe729",
   "metadata": {},
   "outputs": [
    {
     "data": {
      "image/png": "[encoded data removed]",
      "text/plain": [
       "<Figure size 720x360 with 1 Axes>"
      ]
     },
     "metadata": {
      "needs_background": "light"
     },
     "output_type": "display_data"
    }
   ],
   "source": [
    "courses = results_df['Method']\n",
    "values = results_df['R-Precision']\n",
    "  \n",
    "fig = plt.figure(figsize = (10, 5))\n",
    " \n",
    "# creating the bar plot\n",
    "plt.bar(courses, values, color ='maroon',\n",
    "        width = 0.4)\n",
    " \n",
    "plt.xlabel(\"Model\")\n",
    "plt.ylabel(\"r-precision\")\n",
    "plt.title(\"R-Precision for each model\")\n",
    "plt.show()"
   ]
  },
  {
   "cell_type": "code",
   "execution_count": 23,
   "id": "b25ff98e",
   "metadata": {},
   "outputs": [
    {
     "data": {
      "image/png": "[encoded data removed]",
      "text/plain": [
       "<Figure size 720x360 with 1 Axes>"
      ]
     },
     "metadata": {
      "needs_background": "light"
     },
     "output_type": "display_data"
    }
   ],
   "source": [
    "courses = results_df['Method']\n",
    "values = results_df['Clicks']\n",
    "  \n",
    "fig = plt.figure(figsize = (10, 5))\n",
    " \n",
    "# creating the bar plot\n",
    "plt.bar(courses, values, color ='maroon',\n",
    "        width = 0.4)\n",
    " \n",
    "plt.xlabel(\"Model\")\n",
    "plt.ylabel(\"r-precision\")\n",
    "plt.title(\"Number of clicks to find song for each model\")\n",
    "plt.show()"
   ]
  },
  {
   "cell_type": "code",
   "execution_count": 24,
   "id": "eaef2286",
   "metadata": {},
   "outputs": [
    {
     "data": {
      "image/png": "[encoded data removed]",
      "text/plain": [
       "<Figure size 720x360 with 1 Axes>"
      ]
     },
     "metadata": {
      "needs_background": "light"
     },
     "output_type": "display_data"
    }
   ],
   "source": [
    "courses = results_df['Method']\n",
    "values = results_df['Time']\n",
    "  \n",
    "fig = plt.figure(figsize = (10, 5))\n",
    " \n",
    "# creating the bar plot\n",
    "plt.bar(courses, values, color ='maroon',\n",
    "        width = 0.4)\n",
    " \n",
    "plt.xlabel(\"Model\")\n",
    "plt.ylabel(\"r-precision\")\n",
    "plt.title(\"Runtime for each model\")\n",
    "plt.show()"
   ]
  }
 ],
 "metadata": {
  "kernelspec": {
   "display_name": "Python 3 (ipykernel)",
   "language": "python",
   "name": "python3"
  },
  "language_info": {
   "codemirror_mode": {
    "name": "ipython",
    "version": 3
   },
   "file_extension": ".py",
   "mimetype": "text/x-python",
   "name": "python",
   "nbconvert_exporter": "python",
   "pygments_lexer": "ipython3",
   "version": "3.9.10"
  }
 },
 "nbformat": 4,
 "nbformat_minor": 5
}
