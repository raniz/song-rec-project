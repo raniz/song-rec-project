{
 "cells": [
  {
   "cell_type": "code",
   "execution_count": 1,
   "id": "41c9fe95",
   "metadata": {},
   "outputs": [
    {
     "name": "stderr",
     "output_type": "stream",
     "text": [
      "2022-02-23 09:34:45.228727: W tensorflow/stream_executor/platform/default/dso_loader.cc:64] Could not load dynamic library 'libcudart.so.11.0'; dlerror: libcudart.so.11.0: cannot open shared object file: No such file or directory\n",
      "2022-02-23 09:34:45.228751: I tensorflow/stream_executor/cuda/cudart_stub.cc:29] Ignore above cudart dlerror if you do not have a GPU set up on your machine.\n"
     ]
    }
   ],
   "source": [
    "import matplotlib.pyplot as plt\n",
    "import numpy as np\n",
    "import pandas as pd\n",
    "import tensorflow as tf\n",
    "\n",
    "import pickle\n",
    "\n",
    "from gensim.models import KeyedVectors\n",
    "\n",
    "from sklearn.metrics import accuracy_score, precision_score, recall_score\n",
    "from sklearn.model_selection import train_test_split\n",
    "from tensorflow.keras import layers, losses\n",
    "from tensorflow.keras.datasets import fashion_mnist\n",
    "from tensorflow.keras.models import Model\n",
    "import keras.backend as K\n",
    "\n",
    "from evaluation_metrics import r_precision"
   ]
  },
  {
   "cell_type": "code",
   "execution_count": 2,
   "id": "b1702a6c",
   "metadata": {},
   "outputs": [],
   "source": [
    "# Path to project data\n",
    "data_path = '/recsys/data/spotify/s2v_data/'\n",
    "# Path to trian and test file\n",
    "pickle_file = 'sentences_and_maps.pickle'\n",
    "# Path to Word2Vec embeddings\n",
    "vectors_file = 'song_vectors.kv'\n",
    "# Path to encoder dataset which we create here if it doesnt exist\n",
    "encoder_dataset = 'encoder_dataset_1M.pickle'"
   ]
  },
  {
   "cell_type": "code",
   "execution_count": 3,
   "id": "628f8cf8",
   "metadata": {},
   "outputs": [],
   "source": [
    "with open(data_path + pickle_file, 'rb') as handle:\n",
    "    train, test, track_data_map, reverse_track_lookup = pickle.load(handle)"
   ]
  },
  {
   "cell_type": "code",
   "execution_count": 4,
   "id": "4aaeb5b8",
   "metadata": {},
   "outputs": [],
   "source": [
    "train = [val.split() for val in train]\n",
    "test = [val.split() for val in test]\n",
    "\n",
    "wv = KeyedVectors.load(data_path + vectors_file)"
   ]
  },
  {
   "cell_type": "code",
   "execution_count": 5,
   "id": "44ba1ec0",
   "metadata": {},
   "outputs": [],
   "source": [
    "# wv.init_sims(replace=True)"
   ]
  },
  {
   "cell_type": "markdown",
   "id": "e1d1e1af",
   "metadata": {},
   "source": [
    "## Dataset creation\n",
    "- Dataset is created as (song1_embedding, song2_embedding) for songs found one after another if both sonds have embeddings\n",
    "- We created 2 datasets, 1 of 500K examples and the other of 1M examples"
   ]
  },
  {
   "cell_type": "code",
   "execution_count": 6,
   "id": "9d53ee1f",
   "metadata": {},
   "outputs": [],
   "source": [
    "# creating train and validation sets\n",
    "# taking 500 for train, 50 for validation\n",
    "try:\n",
    "    with open(data_path + encoder_dataset, 'rb') as handle:\n",
    "        train_in, train_out, val_in, val_out = pickle.load(handle)\n",
    "\n",
    "except Exception as e:   \n",
    "    print('Loading failed: {}'.format(e))\n",
    "    print('Creating dataset')\n",
    "    train_in, train_out, val_in, val_out = [], [], [], []\n",
    "\n",
    "    train_size = 0\n",
    "    validation_size = 0\n",
    "    add_to_train = True\n",
    "\n",
    "    for pl in train:\n",
    "        prev_song = None\n",
    "\n",
    "        if len(train_in) >= 1000000:\n",
    "            add_to_train = False\n",
    "        if len(val_in) >= 100000:\n",
    "            break\n",
    "\n",
    "        for s in pl:\n",
    "            if s in wv.index_to_key:\n",
    "                if prev_song:\n",
    "                    if add_to_train:\n",
    "                        train_in.append(wv.get_vector(prev_song))\n",
    "                        train_out.append(wv.get_vector(s))\n",
    "                    else:\n",
    "                        val_in.append(wv.get_vector(prev_song))\n",
    "                        val_out.append(wv.get_vector(s))\n",
    "\n",
    "                prev_song = s\n",
    "            else:\n",
    "                prev_song = None\n",
    "\n",
    "    data = train_in, train_out, val_in, val_out\n",
    "    with open(data_path + encoder_dataset, 'wb') as handle:\n",
    "        pickle.dump(data, handle, protocol=pickle.HIGHEST_PROTOCOL)"
   ]
  },
  {
   "cell_type": "code",
   "execution_count": 7,
   "id": "b2a892ee",
   "metadata": {},
   "outputs": [],
   "source": [
    "train_in, train_out= np.array(train_in), np.array(train_out)\n",
    "val_in, val_out = np.array(val_in), np.array(val_out)"
   ]
  },
  {
   "cell_type": "code",
   "execution_count": 8,
   "id": "59621da2",
   "metadata": {},
   "outputs": [],
   "source": [
    "train_in = train_in.reshape(train_in.shape[0], 64, 1)\n",
    "train_out = train_out.reshape(train_in.shape[0], 64, 1)\n",
    "val_in = val_in.reshape(val_in.shape[0], 64, 1)\n",
    "val_out = val_out.reshape(val_in.shape[0], 64, 1)"
   ]
  },
  {
   "cell_type": "markdown",
   "id": "1cb31997",
   "metadata": {},
   "source": [
    "## Model\n",
    "- The model is an Encoder Decoder model\n",
    "- The input is a song embedding\n",
    "- The output is also a song embedding\n",
    "\n",
    "- The target is given a song, predict the embedding of the next song"
   ]
  },
  {
   "cell_type": "code",
   "execution_count": 9,
   "id": "5976221a",
   "metadata": {},
   "outputs": [
    {
     "name": "stderr",
     "output_type": "stream",
     "text": [
      "2022-02-23 09:35:01.318914: E tensorflow/stream_executor/cuda/cuda_driver.cc:271] failed call to cuInit: CUDA_ERROR_NO_DEVICE: no CUDA-capable device is detected\n",
      "2022-02-23 09:35:01.318947: I tensorflow/stream_executor/cuda/cuda_diagnostics.cc:156] kernel driver does not appear to be running on this host (kal-syl): /proc/driver/nvidia/version does not exist\n",
      "2022-02-23 09:35:01.319199: I tensorflow/core/platform/cpu_feature_guard.cc:151] This TensorFlow binary is optimized with oneAPI Deep Neural Network Library (oneDNN) to use the following CPU instructions in performance-critical operations:  AVX2 FMA\n",
      "To enable them in other operations, rebuild TensorFlow with the appropriate compiler flags.\n"
     ]
    }
   ],
   "source": [
    "class ProdEmbToEmb(Model):\n",
    "  def __init__(self):\n",
    "    super(ProdEmbToEmb, self).__init__()\n",
    "    self.encoder = tf.keras.Sequential([\n",
    "      layers.Input(shape=(64, 1)),\n",
    "      layers.Flatten(),\n",
    "      layers.Dense(32, activation='selu'),\n",
    "      layers.Dropout(0.2),\n",
    "      layers.Dense(32, activation='selu')])\n",
    "\n",
    "    self.decoder = tf.keras.Sequential([\n",
    "      layers.Dense(32, activation='selu'),\n",
    "      layers.Dropout(0.3),\n",
    "      layers.Dense(64, activation='selu'),\n",
    "      layers.Dropout(0.3),\n",
    "      layers.Dense(64, activation='linear'),\n",
    "    ])\n",
    "\n",
    "  def call(self, x):\n",
    "    encoded = self.encoder(x)\n",
    "    decoded = self.decoder(encoded)\n",
    "    return decoded\n",
    "\n",
    "autoencoder = ProdEmbToEmb()"
   ]
  },
  {
   "cell_type": "code",
   "execution_count": 10,
   "id": "aa55958c",
   "metadata": {},
   "outputs": [],
   "source": [
    "autoencoder.compile(optimizer='adamax', loss=losses.MeanSquaredError())"
   ]
  },
  {
   "cell_type": "code",
   "execution_count": 11,
   "id": "8250bcca",
   "metadata": {},
   "outputs": [
    {
     "name": "stdout",
     "output_type": "stream",
     "text": [
      "Epoch 1/30\n",
      "31251/31251 [==============================] - 35s 1ms/step - loss: 1.5476 - val_loss: 1.4374\n",
      "Epoch 2/30\n",
      "31251/31251 [==============================] - 38s 1ms/step - loss: 1.5040 - val_loss: 1.4297\n",
      "Epoch 3/30\n",
      "31251/31251 [==============================] - 39s 1ms/step - loss: 1.4972 - val_loss: 1.4231\n",
      "Epoch 4/30\n",
      "31251/31251 [==============================] - 34s 1ms/step - loss: 1.4928 - val_loss: 1.4200\n",
      "Epoch 5/30\n",
      "31251/31251 [==============================] - 33s 1ms/step - loss: 1.4903 - val_loss: 1.4159\n",
      "Epoch 6/30\n",
      "31251/31251 [==============================] - 33s 1ms/step - loss: 1.4883 - val_loss: 1.4159\n",
      "Epoch 7/30\n",
      "31251/31251 [==============================] - 33s 1ms/step - loss: 1.4871 - val_loss: 1.4149\n",
      "Epoch 8/30\n",
      "31251/31251 [==============================] - 34s 1ms/step - loss: 1.4861 - val_loss: 1.4122\n",
      "Epoch 9/30\n",
      "31251/31251 [==============================] - 33s 1ms/step - loss: 1.4852 - val_loss: 1.4108\n",
      "Epoch 10/30\n",
      "31251/31251 [==============================] - 33s 1ms/step - loss: 1.4845 - val_loss: 1.4129\n",
      "Epoch 11/30\n",
      "31251/31251 [==============================] - 33s 1ms/step - loss: 1.4837 - val_loss: 1.4099\n",
      "Epoch 12/30\n",
      "31251/31251 [==============================] - 33s 1ms/step - loss: 1.4831 - val_loss: 1.4106\n",
      "Epoch 13/30\n",
      "31251/31251 [==============================] - 33s 1ms/step - loss: 1.4828 - val_loss: 1.4101\n",
      "Epoch 14/30\n",
      "31251/31251 [==============================] - 34s 1ms/step - loss: 1.4824 - val_loss: 1.4097\n",
      "Epoch 15/30\n",
      "31251/31251 [==============================] - 33s 1ms/step - loss: 1.4821 - val_loss: 1.4093\n",
      "Epoch 16/30\n",
      "31251/31251 [==============================] - 33s 1ms/step - loss: 1.4818 - val_loss: 1.4089\n",
      "Epoch 17/30\n",
      "31251/31251 [==============================] - 33s 1ms/step - loss: 1.4814 - val_loss: 1.4084\n",
      "Epoch 18/30\n",
      "31251/31251 [==============================] - 33s 1ms/step - loss: 1.4812 - val_loss: 1.4076\n",
      "Epoch 19/30\n",
      "31251/31251 [==============================] - 33s 1ms/step - loss: 1.4811 - val_loss: 1.4094\n",
      "Epoch 20/30\n",
      "31251/31251 [==============================] - 33s 1ms/step - loss: 1.4811 - val_loss: 1.4086\n",
      "Epoch 21/30\n",
      "31251/31251 [==============================] - 35s 1ms/step - loss: 1.4808 - val_loss: 1.4072\n",
      "Epoch 22/30\n",
      "31251/31251 [==============================] - 33s 1ms/step - loss: 1.4804 - val_loss: 1.4079\n",
      "Epoch 23/30\n",
      "31251/31251 [==============================] - 33s 1ms/step - loss: 1.4804 - val_loss: 1.4086\n",
      "Epoch 24/30\n",
      "31251/31251 [==============================] - 33s 1ms/step - loss: 1.4803 - val_loss: 1.4085\n",
      "Epoch 25/30\n",
      "31251/31251 [==============================] - 33s 1ms/step - loss: 1.4803 - val_loss: 1.4085\n",
      "Epoch 26/30\n",
      "31251/31251 [==============================] - 34s 1ms/step - loss: 1.4801 - val_loss: 1.4076\n",
      "Epoch 27/30\n",
      "31251/31251 [==============================] - 34s 1ms/step - loss: 1.4800 - val_loss: 1.4090\n",
      "Epoch 28/30\n",
      "31251/31251 [==============================] - 34s 1ms/step - loss: 1.4798 - val_loss: 1.4069\n",
      "Epoch 29/30\n",
      "31251/31251 [==============================] - 35s 1ms/step - loss: 1.4797 - val_loss: 1.4089\n",
      "Epoch 30/30\n",
      "31251/31251 [==============================] - 35s 1ms/step - loss: 1.4796 - val_loss: 1.4069\n"
     ]
    }
   ],
   "source": [
    "history = autoencoder.fit(train_in, train_out,\n",
    "                          epochs=30,\n",
    "                          shuffle=True,\n",
    "                          validation_data=(val_in, val_out))"
   ]
  },
  {
   "cell_type": "code",
   "execution_count": 12,
   "id": "05ad3295",
   "metadata": {},
   "outputs": [
    {
     "data": {
      "image/png": "[encoded data removed]",
      "text/plain": [
       "<Figure size 432x288 with 1 Axes>"
      ]
     },
     "metadata": {
      "needs_background": "light"
     },
     "output_type": "display_data"
    }
   ],
   "source": [
    "plt.plot(history.history['loss'])\n",
    "plt.plot(history.history['val_loss'])\n",
    "plt.title('training loss')\n",
    "plt.ylabel('loss')\n",
    "plt.xlabel('epoch')\n",
    "plt.legend(['train', 'validation'], loc='upper left')\n",
    "plt.show()"
   ]
  },
  {
   "cell_type": "code",
   "execution_count": 13,
   "id": "2335c2f6",
   "metadata": {},
   "outputs": [
    {
     "name": "stdout",
     "output_type": "stream",
     "text": [
      "Model: \"sequential\"\n",
      "_________________________________________________________________\n",
      " Layer (type)                Output Shape              Param #   \n",
      "=================================================================\n",
      " flatten (Flatten)           (None, 64)                0         \n",
      "                                                                 \n",
      " dense (Dense)               (None, 32)                2080      \n",
      "                                                                 \n",
      " dropout (Dropout)           (None, 32)                0         \n",
      "                                                                 \n",
      " dense_1 (Dense)             (None, 32)                1056      \n",
      "                                                                 \n",
      "=================================================================\n",
      "Total params: 3,136\n",
      "Trainable params: 3,136\n",
      "Non-trainable params: 0\n",
      "_________________________________________________________________\n"
     ]
    }
   ],
   "source": [
    "autoencoder.encoder.summary()\n"
   ]
  },
  {
   "cell_type": "code",
   "execution_count": 14,
   "id": "dec57685",
   "metadata": {},
   "outputs": [
    {
     "name": "stdout",
     "output_type": "stream",
     "text": [
      "Model: \"sequential_1\"\n",
      "_________________________________________________________________\n",
      " Layer (type)                Output Shape              Param #   \n",
      "=================================================================\n",
      " dense_2 (Dense)             (None, 32)                1056      \n",
      "                                                                 \n",
      " dropout_1 (Dropout)         (None, 32)                0         \n",
      "                                                                 \n",
      " dense_3 (Dense)             (None, 64)                2112      \n",
      "                                                                 \n",
      " dropout_2 (Dropout)         (None, 64)                0         \n",
      "                                                                 \n",
      " dense_4 (Dense)             (None, 64)                4160      \n",
      "                                                                 \n",
      "=================================================================\n",
      "Total params: 7,328\n",
      "Trainable params: 7,328\n",
      "Non-trainable params: 0\n",
      "_________________________________________________________________\n"
     ]
    }
   ],
   "source": [
    "autoencoder.decoder.summary()\n"
   ]
  },
  {
   "cell_type": "markdown",
   "id": "e0106215",
   "metadata": {},
   "source": [
    "## Prediction\n",
    "prediction is done as follows:\n",
    "- Given a song we encode it end decode it using the model\n",
    "- Then we search for the nearest embeddings to the decoded vector\n",
    "- We recommend the song with the nearest embeddings"
   ]
  },
  {
   "cell_type": "code",
   "execution_count": 15,
   "id": "fe18fc32",
   "metadata": {},
   "outputs": [],
   "source": [
    "def predict_using_similarity_to_decoding(s_sample, k, wv):\n",
    "    songs_in_dict = []\n",
    "    all_results = []\n",
    "    for s in s_sample:\n",
    "        if s in wv.key_to_index:\n",
    "            songs_in_dict.append(s)\n",
    "    \n",
    "    if songs_in_dict:\n",
    "        for s in songs_in_dict:\n",
    "            vec = wv.get_vector(s).reshape(1, 64, 1)\n",
    "            encoded_vec = autoencoder.encoder(vec).numpy()\n",
    "            decoded_vec = autoencoder.decoder(encoded_vec).numpy()\n",
    "            temp_results = wv.similar_by_vector(decoded_vec[0], topn=int(k / len(songs_in_dict)))\n",
    "            all_results.extend(temp_results)\n",
    "        \n",
    "        return all_results[:100]\n",
    "    else:\n",
    "        return None"
   ]
  },
  {
   "cell_type": "code",
   "execution_count": 16,
   "id": "faabe8f7",
   "metadata": {},
   "outputs": [
    {
     "name": "stdout",
     "output_type": "stream",
     "text": [
      "CPU times: user 2min 21s, sys: 1min 58s, total: 4min 19s\n",
      "Wall time: 33.6 s\n"
     ]
    }
   ],
   "source": [
    "%%time\n",
    "similarity_prediction = [predict_using_similarity_to_decoding(sample[:3], 100, wv) for sample in test[:10000]]\n",
    "test = [val for val, tester in zip(test, similarity_prediction) if tester]\n",
    "similarity_prediction = [val for val in similarity_prediction if val]"
   ]
  },
  {
   "cell_type": "code",
   "execution_count": 17,
   "id": "5f4cbbb1",
   "metadata": {},
   "outputs": [
    {
     "data": {
      "text/plain": [
       "0.1263698293774981"
      ]
     },
     "execution_count": 17,
     "metadata": {},
     "output_type": "execute_result"
    }
   ],
   "source": [
    "r_precision(test, similarity_prediction)"
   ]
  },
  {
   "cell_type": "code",
   "execution_count": 18,
   "id": "f1e5f24c",
   "metadata": {},
   "outputs": [
    {
     "name": "stderr",
     "output_type": "stream",
     "text": [
      "2022-02-23 10:16:09.510242: W tensorflow/python/util/util.cc:368] Sets are not currently considered sequences, but this may change in the future, so consider avoiding using them.\n"
     ]
    },
    {
     "name": "stdout",
     "output_type": "stream",
     "text": [
      "INFO:tensorflow:Assets written to: /home/kal/recsys/data/spotify/s2v_data/emb_to_emb_encoder.model/assets\n"
     ]
    }
   ],
   "source": [
    "autoencoder.save(data_path + 'emb_to_emb_encoder.model')"
   ]
  }
 ],
 "metadata": {
  "kernelspec": {
   "display_name": "Python 3 (ipykernel)",
   "language": "python",
   "name": "python3"
  },
  "language_info": {
   "codemirror_mode": {
    "name": "ipython",
    "version": 3
   },
   "file_extension": ".py",
   "mimetype": "text/x-python",
   "name": "python",
   "nbconvert_exporter": "python",
   "pygments_lexer": "ipython3",
   "version": "3.9.10"
  }
 },
 "nbformat": 4,
 "nbformat_minor": 5
}
