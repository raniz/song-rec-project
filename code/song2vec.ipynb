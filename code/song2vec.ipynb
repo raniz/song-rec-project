{
 "cells": [
  {
   "cell_type": "code",
   "execution_count": 1,
   "id": "3239aa8b",
   "metadata": {},
   "outputs": [],
   "source": [
    "import pickle\n",
    "import time\n",
    "\n",
    "import numpy as np\n",
    "import pandas as pd\n",
    "\n",
    "import gensim\n",
    "\n",
    "from matplotlib import pyplot as plt\n",
    "\n",
    "from evaluation_metrics import r_precision"
   ]
  },
  {
   "cell_type": "code",
   "execution_count": 2,
   "id": "b1c98645",
   "metadata": {},
   "outputs": [],
   "source": [
    "# Path to project data\n",
    "data_path = '/recsys/data/spotify/s2v_data/'\n",
    "# Path to trian and test file\n",
    "pickle_file = 'sentences_and_maps.pickle'"
   ]
  },
  {
   "cell_type": "code",
   "execution_count": 3,
   "id": "7624ed9a",
   "metadata": {},
   "outputs": [],
   "source": [
    "with open(data_path + pickle_file, 'rb') as handle:\n",
    "    train, test, track_data_map, reverse_track_lookup = pickle.load(handle)"
   ]
  },
  {
   "cell_type": "code",
   "execution_count": 4,
   "id": "ab5ce0cb",
   "metadata": {},
   "outputs": [],
   "source": [
    "train = [val.split() for val in train]\n",
    "test = [val.split() for val in test]"
   ]
  },
  {
   "cell_type": "markdown",
   "id": "db3ccabb",
   "metadata": {},
   "source": [
    "## Model training"
   ]
  },
  {
   "cell_type": "code",
   "execution_count": 5,
   "id": "86ab35cc",
   "metadata": {},
   "outputs": [],
   "source": [
    "model = gensim.models.Word2Vec(sentences=train, vector_size=64, window=7, min_count=10, workers=4)"
   ]
  },
  {
   "cell_type": "code",
   "execution_count": 6,
   "id": "b7d9648c",
   "metadata": {},
   "outputs": [
    {
     "data": {
      "text/plain": [
       "2262292"
      ]
     },
     "execution_count": 6,
     "metadata": {},
     "output_type": "execute_result"
    }
   ],
   "source": [
    "len(track_data_map)"
   ]
  },
  {
   "cell_type": "code",
   "execution_count": 7,
   "id": "112cc070",
   "metadata": {},
   "outputs": [
    {
     "data": {
      "text/plain": [
       "322701"
      ]
     },
     "execution_count": 7,
     "metadata": {},
     "output_type": "execute_result"
    }
   ],
   "source": [
    "len(model.wv)"
   ]
  },
  {
   "cell_type": "code",
   "execution_count": 8,
   "id": "fad579f9",
   "metadata": {},
   "outputs": [],
   "source": [
    "model.wv.save(data_path + 'song_vectors.kv')"
   ]
  },
  {
   "cell_type": "markdown",
   "id": "53f6bdb5",
   "metadata": {},
   "source": [
    "## Hyper parameters tunning\n",
    "The parameters we change:\n",
    "- vector size: size of the embeddings\n",
    "- window: size of window to look at\n",
    "- min_counts: Minimum examples of a song in order to create embeddings for it"
   ]
  },
  {
   "cell_type": "code",
   "execution_count": 9,
   "id": "4f492594",
   "metadata": {},
   "outputs": [],
   "source": [
    "def predict_using_similarity(s_sample, k, wv):\n",
    "    song_in_dict = False\n",
    "    for s in s_sample:\n",
    "        if s in wv.key_to_index:\n",
    "            song_in_dict = True\n",
    "            break\n",
    "    \n",
    "    if song_in_dict:\n",
    "        return wv.most_similar_cosmul(s, topn=k)\n",
    "    else:\n",
    "        return None"
   ]
  },
  {
   "cell_type": "code",
   "execution_count": 10,
   "id": "368779cc",
   "metadata": {},
   "outputs": [],
   "source": [
    "#The parameters we change:\n",
    "# vector size: size of the embeddings\n",
    "vector_sizes = [64, 128]\n",
    "windows = [3, 5]\n",
    "min_counts = [10 ,20]"
   ]
  },
  {
   "cell_type": "code",
   "execution_count": 11,
   "id": "936075c3",
   "metadata": {},
   "outputs": [
    {
     "name": "stdout",
     "output_type": "stream",
     "text": [
      "Finished for size: 64, window: 3, min_count: 10, took: 5.925591452916463 minutes.\n",
      "Finished for size: 64, window: 3, min_count: 20, took: 3.943149673938751 minutes.\n",
      "Finished for size: 64, window: 5, min_count: 10, took: 5.144257326920827 minutes.\n",
      "Finished for size: 64, window: 5, min_count: 20, took: 4.182573374112447 minutes.\n",
      "Finished for size: 128, window: 3, min_count: 10, took: 4.571328202883403 minutes.\n",
      "Finished for size: 128, window: 3, min_count: 20, took: 3.002096164226532 minutes.\n",
      "Finished for size: 128, window: 5, min_count: 10, took: 2.999345620473226 minutes.\n",
      "Finished for size: 128, window: 5, min_count: 20, took: 2.973606562614441 minutes.\n"
     ]
    }
   ],
   "source": [
    "params_df = pd.DataFrame(columns=['time', 'size', 'window', 'min_count', 'R-Precision', 'Coverage'])\n",
    "\n",
    "for vector_size in vector_sizes:\n",
    "    for window in windows:\n",
    "        for min_count in min_counts:\n",
    "            start = time.time()\n",
    "            \n",
    "            wv = gensim.models.Word2Vec(sentences=train, vector_size=64, window=7, min_count=10, workers=4).wv\n",
    "            \n",
    "            prediction = [predict_using_similarity(sample[:3], 100, wv) for sample in test[50000:52000]]\n",
    "            test_found = [t for t, tester in zip(test[50000:52000], prediction) if tester]\n",
    "            predictions_found = [p for p in prediction if p]\n",
    "            \n",
    "            params_df = params_df.append({'time': (time.time() - start) / 60,\n",
    "                                            'size': vector_size,\n",
    "                                            'window': window,\n",
    "                                            'min_count': min_count,\n",
    "                                            'Coverage': len(predictions_found) / len(prediction),\n",
    "                                            'R-Precision': r_precision(test_found, predictions_found)},\n",
    "                                           ignore_index=True)\n",
    "            \n",
    "            print(f'''Finished for size: {vector_size}, window: {window}, min_count: {min_count}, took: {(time.time() - start) / 60} minutes.''')"
   ]
  },
  {
   "cell_type": "code",
   "execution_count": 12,
   "id": "b23660d8",
   "metadata": {},
   "outputs": [
    {
     "data": {
      "text/html": [
       "<div>\n",
       "<style scoped>\n",
       "    .dataframe tbody tr th:only-of-type {\n",
       "        vertical-align: middle;\n",
       "    }\n",
       "\n",
       "    .dataframe tbody tr th {\n",
       "        vertical-align: top;\n",
       "    }\n",
       "\n",
       "    .dataframe thead th {\n",
       "        text-align: right;\n",
       "    }\n",
       "</style>\n",
       "<table border=\"1\" class=\"dataframe\">\n",
       "  <thead>\n",
       "    <tr style=\"text-align: right;\">\n",
       "      <th></th>\n",
       "      <th>time</th>\n",
       "      <th>size</th>\n",
       "      <th>window</th>\n",
       "      <th>min_count</th>\n",
       "      <th>R-Precision</th>\n",
       "      <th>Coverage</th>\n",
       "    </tr>\n",
       "  </thead>\n",
       "  <tbody>\n",
       "    <tr>\n",
       "      <th>0</th>\n",
       "      <td>5.921462</td>\n",
       "      <td>64.0</td>\n",
       "      <td>3.0</td>\n",
       "      <td>10.0</td>\n",
       "      <td>0.107057</td>\n",
       "      <td>0.9865</td>\n",
       "    </tr>\n",
       "    <tr>\n",
       "      <th>1</th>\n",
       "      <td>3.937910</td>\n",
       "      <td>64.0</td>\n",
       "      <td>3.0</td>\n",
       "      <td>20.0</td>\n",
       "      <td>0.107878</td>\n",
       "      <td>0.9865</td>\n",
       "    </tr>\n",
       "    <tr>\n",
       "      <th>2</th>\n",
       "      <td>5.140761</td>\n",
       "      <td>64.0</td>\n",
       "      <td>5.0</td>\n",
       "      <td>10.0</td>\n",
       "      <td>0.107462</td>\n",
       "      <td>0.9865</td>\n",
       "    </tr>\n",
       "    <tr>\n",
       "      <th>3</th>\n",
       "      <td>4.178725</td>\n",
       "      <td>64.0</td>\n",
       "      <td>5.0</td>\n",
       "      <td>20.0</td>\n",
       "      <td>0.108071</td>\n",
       "      <td>0.9865</td>\n",
       "    </tr>\n",
       "    <tr>\n",
       "      <th>4</th>\n",
       "      <td>4.567009</td>\n",
       "      <td>128.0</td>\n",
       "      <td>3.0</td>\n",
       "      <td>10.0</td>\n",
       "      <td>0.107142</td>\n",
       "      <td>0.9865</td>\n",
       "    </tr>\n",
       "    <tr>\n",
       "      <th>5</th>\n",
       "      <td>2.998999</td>\n",
       "      <td>128.0</td>\n",
       "      <td>3.0</td>\n",
       "      <td>20.0</td>\n",
       "      <td>0.107323</td>\n",
       "      <td>0.9865</td>\n",
       "    </tr>\n",
       "    <tr>\n",
       "      <th>6</th>\n",
       "      <td>2.996299</td>\n",
       "      <td>128.0</td>\n",
       "      <td>5.0</td>\n",
       "      <td>10.0</td>\n",
       "      <td>0.107480</td>\n",
       "      <td>0.9865</td>\n",
       "    </tr>\n",
       "    <tr>\n",
       "      <th>7</th>\n",
       "      <td>2.970244</td>\n",
       "      <td>128.0</td>\n",
       "      <td>5.0</td>\n",
       "      <td>20.0</td>\n",
       "      <td>0.107437</td>\n",
       "      <td>0.9865</td>\n",
       "    </tr>\n",
       "  </tbody>\n",
       "</table>\n",
       "</div>"
      ],
      "text/plain": [
       "       time   size  window  min_count  R-Precision  Coverage\n",
       "0  5.921462   64.0     3.0       10.0     0.107057    0.9865\n",
       "1  3.937910   64.0     3.0       20.0     0.107878    0.9865\n",
       "2  5.140761   64.0     5.0       10.0     0.107462    0.9865\n",
       "3  4.178725   64.0     5.0       20.0     0.108071    0.9865\n",
       "4  4.567009  128.0     3.0       10.0     0.107142    0.9865\n",
       "5  2.998999  128.0     3.0       20.0     0.107323    0.9865\n",
       "6  2.996299  128.0     5.0       10.0     0.107480    0.9865\n",
       "7  2.970244  128.0     5.0       20.0     0.107437    0.9865"
      ]
     },
     "execution_count": 12,
     "metadata": {},
     "output_type": "execute_result"
    }
   ],
   "source": [
    "params_df"
   ]
  }
 ],
 "metadata": {
  "kernelspec": {
   "display_name": "Python 3 (ipykernel)",
   "language": "python",
   "name": "python3"
  },
  "language_info": {
   "codemirror_mode": {
    "name": "ipython",
    "version": 3
   },
   "file_extension": ".py",
   "mimetype": "text/x-python",
   "name": "python",
   "nbconvert_exporter": "python",
   "pygments_lexer": "ipython3",
   "version": "3.9.10"
  }
 },
 "nbformat": 4,
 "nbformat_minor": 5
}
